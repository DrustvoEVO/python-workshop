{
 "cells": [
  {
   "cell_type": "markdown",
   "metadata": {},
   "source": [
    "## Task 1: Flash vs Internet Explorer\n",
    "Flash and IE take a 100 m race. Flash travels 1/10 of the remaining distance each second, and IE has a constant speed of 5 meters per second. Print their positions for each second of the race. Print the distance travelled for each second of the race, for both Flash and IE."
   ]
  },
  {
   "cell_type": "code",
   "execution_count": null,
   "metadata": {},
   "outputs": [],
   "source": []
  },
  {
   "cell_type": "markdown",
   "metadata": {},
   "source": [
    "## Task 2: Flash and Internet Explorer, again\n",
    "Find the first whole second at which Flash has been overtaken by IE."
   ]
  },
  {
   "cell_type": "code",
   "execution_count": 6,
   "metadata": {},
   "outputs": [
    {
     "name": "stdout",
     "output_type": "stream",
     "text": [
      "17\n"
     ]
    }
   ],
   "source": [
    "goal = 100\n",
    "flash_factor = 1/10\n",
    "IE_speed = 5\n",
    "\n",
    "flash_distance = [0]\n",
    "IE_distance = [0]\n",
    "time = [0]\n",
    "\n",
    "while IE_distance[-1] <= flash_distance[-1]:\n",
    "    flash_distance.append(flash_distance[-1] + (goal - flash_distance[-1]) * flash_factor)\n",
    "    IE_distance.append(IE_distance[-1] + IE_speed)\n",
    "    time.append(time[-1] + 1)\n",
    "\n",
    "print(time[-1])"
   ]
  }
 ],
 "metadata": {
  "kernelspec": {
   "display_name": "Python 3",
   "language": "python",
   "name": "python3"
  },
  "language_info": {
   "codemirror_mode": {
    "name": "ipython",
    "version": 3
   },
   "file_extension": ".py",
   "mimetype": "text/x-python",
   "name": "python",
   "nbconvert_exporter": "python",
   "pygments_lexer": "ipython3",
   "version": "3.11.0"
  },
  "orig_nbformat": 4
 },
 "nbformat": 4,
 "nbformat_minor": 2
}
