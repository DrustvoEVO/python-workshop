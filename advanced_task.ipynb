{
 "cells": [
  {
   "cell_type": "markdown",
   "metadata": {},
   "source": [
    "# Context\n",
    "Watch this video (with subtitles if you don't have sound): https://www.youtube.com/watch?v=FGC5TdIiT9U&ab_channel=Numberphile.\n",
    "\n",
    "# Task\n",
    "**Write a function that will draw the \"spiral\" graph from the video.** The function should have only one input parameter N, which corresponds to the last element of the sequence (a_N), which the function should draw up to. Save your plot as a PDF.\n",
    "\n",
    "Make sure that the dimensions of the plot fit any given N so that all semicircles are indeed cricular, and not elliptical.\n",
    "\n",
    "\n",
    "# Simpler version\n",
    "Plot the Recamán sequence with N on the x-axis and a_N on the y-axis."
   ]
  },
  {
   "cell_type": "code",
   "execution_count": null,
   "metadata": {},
   "outputs": [],
   "source": []
  }
 ],
 "metadata": {
  "language_info": {
   "name": "python"
  },
  "orig_nbformat": 4
 },
 "nbformat": 4,
 "nbformat_minor": 2
}
